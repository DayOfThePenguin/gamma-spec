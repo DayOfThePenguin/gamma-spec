{
 "cells": [
  {
   "cell_type": "code",
   "execution_count": 33,
   "metadata": {
    "collapsed": false
   },
   "outputs": [
    {
     "name": "stdout",
     "output_type": "stream",
     "text": [
      "[ 0.0500478   0.02700715  0.02977784  0.02514734  0.04616866]\n",
      "[ 4.52560788  2.4837501 ]\n",
      "                            WLS Regression Results                            \n",
      "==============================================================================\n",
      "Dep. Variable:                      y   R-squared:                       1.000\n",
      "Model:                            WLS   Adj. R-squared:                  1.000\n",
      "Method:                 Least Squares   F-statistic:                 1.337e+05\n",
      "Date:                Thu, 07 Sep 2017   Prob (F-statistic):           3.35e-10\n",
      "Time:                        16:02:26   Log-Likelihood:                -19.012\n",
      "No. Observations:                   5   AIC:                             40.02\n",
      "Df Residuals:                       4   BIC:                             39.63\n",
      "Df Model:                           1                                         \n",
      "Covariance Type:            nonrobust                                         \n",
      "==============================================================================\n",
      "                 coef    std err          t      P>|t|      [0.025      0.975]\n",
      "------------------------------------------------------------------------------\n",
      "x1             2.4873      0.007    365.694      0.000       2.468       2.506\n",
      "==============================================================================\n",
      "Omnibus:                          nan   Durbin-Watson:                   1.127\n",
      "Prob(Omnibus):                    nan   Jarque-Bera (JB):                1.592\n",
      "Skew:                           1.381   Prob(JB):                        0.451\n",
      "Kurtosis:                       3.108   Cond. No.                         1.00\n",
      "==============================================================================\n",
      "\n",
      "Warnings:\n",
      "[1] Standard Errors assume that the covariance matrix of the errors is correctly specified.\n"
     ]
    }
   ],
   "source": [
    "import numpy as np\n",
    "import statsmodels.api as sm\n",
    "\n",
    "energy_list = np.array([121.8, 1408, 778.9, 1112, 334.3,])\n",
    "channel_list = np.array([296.9, 3500, 1933, 2763, 850.9])\n",
    "channel_err = np.array([4.470, 6.085, 5.795, 6.306, 4.654])\n",
    "\n",
    "weights = 1/np.power(channel_err, 2)\n",
    "\n",
    "print weights\n",
    "\n",
    "np_model = np.polynomial.polynomial.polyfit(energy_list, channel_list, deg=1, w=weights)\n",
    "print np_model\n",
    "\n",
    "wls_model = sm.WLS(channel_list, energy_list, weights=weights)\n",
    "results = wls_model.fit()\n",
    "\n",
    "print results.summary()"
   ]
  },
  {
   "cell_type": "code",
   "execution_count": 24,
   "metadata": {
    "collapsed": false
   },
   "outputs": [
    {
     "name": "stdout",
     "output_type": "stream",
     "text": [
      "[1, 0, 0, 0]\n",
      "[1.0, 0.25, 0.1111111111111111, 0.0625]\n",
      "[1, 0, 0, 0]\n",
      "[1.0, 0.25, 0.1111111111111111, 0.0625]\n",
      "[ 1.          0.25        0.11111111  0.0625    ]\n"
     ]
    }
   ],
   "source": [
    "a = [1, 2, 3, 4]\n",
    "b = [1., 2., 3., 4.]\n",
    "c = np.array([1, 2, 3, 4])\n",
    "d = np.array([1., 2., 3., 4.])\n",
    "print map(lambda x: 1/(x**2), a)\n",
    "print map(lambda x: 1/(x**2), b)\n",
    "print map(lambda x: 1/(x**2), c)\n",
    "print map(lambda x: 1/(x**2), d)\n",
    "print 1/np.power(d, 2)"
   ]
  },
  {
   "cell_type": "code",
   "execution_count": null,
   "metadata": {
    "collapsed": true
   },
   "outputs": [],
   "source": []
  }
 ],
 "metadata": {
  "kernelspec": {
   "display_name": "Python 2",
   "language": "python",
   "name": "python2"
  },
  "language_info": {
   "codemirror_mode": {
    "name": "ipython",
    "version": 2
   },
   "file_extension": ".py",
   "mimetype": "text/x-python",
   "name": "python",
   "nbconvert_exporter": "python",
   "pygments_lexer": "ipython2",
   "version": "2.7.13"
  }
 },
 "nbformat": 4,
 "nbformat_minor": 1
}
