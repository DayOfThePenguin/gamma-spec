{
 "cells": [
  {
   "cell_type": "code",
   "execution_count": 31,
   "metadata": {
    "collapsed": false
   },
   "outputs": [
    {
     "name": "stdout",
     "output_type": "stream",
     "text": [
      "[ 0.0500478   0.02700715  0.02977784  0.02514734  0.04616866]\n"
     ]
    },
    {
     "ename": "AttributeError",
     "evalue": "'WLS' object has no attribute 'summary'",
     "output_type": "error",
     "traceback": [
      "\u001b[0;31m---------------------------------------------------------------------------\u001b[0m",
      "\u001b[0;31mAttributeError\u001b[0m                            Traceback (most recent call last)",
      "\u001b[0;32m<ipython-input-31-0a6037e2ab28>\u001b[0m in \u001b[0;36m<module>\u001b[0;34m()\u001b[0m\n\u001b[1;32m     13\u001b[0m \u001b[0msm_model\u001b[0m \u001b[0;34m=\u001b[0m \u001b[0msm\u001b[0m\u001b[0;34m.\u001b[0m\u001b[0mWLS\u001b[0m\u001b[0;34m(\u001b[0m\u001b[0mchannel_list\u001b[0m\u001b[0;34m,\u001b[0m \u001b[0menergy_list\u001b[0m\u001b[0;34m,\u001b[0m \u001b[0mweights\u001b[0m\u001b[0;34m=\u001b[0m\u001b[0mweights\u001b[0m\u001b[0;34m)\u001b[0m\u001b[0;34m\u001b[0m\u001b[0m\n\u001b[1;32m     14\u001b[0m \u001b[0;34m\u001b[0m\u001b[0m\n\u001b[0;32m---> 15\u001b[0;31m \u001b[0;32mprint\u001b[0m \u001b[0msm_model\u001b[0m\u001b[0;34m.\u001b[0m\u001b[0msummary\u001b[0m\u001b[0;34m(\u001b[0m\u001b[0;34m)\u001b[0m\u001b[0;34m\u001b[0m\u001b[0m\n\u001b[0m",
      "\u001b[0;31mAttributeError\u001b[0m: 'WLS' object has no attribute 'summary'"
     ]
    }
   ],
   "source": [
    "import numpy as np\n",
    "import statsmodels.api as sm\n",
    "\n",
    "energy_list = np.array([121.8, 1408, 778.9, 1112, 334.3,])\n",
    "channel_list = np.array([296.9, 3500, 1933, 2763, 850.9])\n",
    "channel_err = np.array([4.470, 6.085, 5.795, 6.306, 4.654])\n",
    "\n",
    "weights = 1/np.power(channel_err, 2)\n",
    "\n",
    "print weights\n",
    "\n",
    "np_model = np.polynomial.polynomial.polyfit(energy_list, channel_list, deg=1, w=weights)\n",
    "\n",
    "wls_model = sm.WLS(channel_list, energy_list, weights=weights)\n",
    "results = wls_model.fit()\n",
    "\n",
    "print sm_model.summary()"
   ]
  },
  {
   "cell_type": "code",
   "execution_count": 24,
   "metadata": {
    "collapsed": false
   },
   "outputs": [
    {
     "name": "stdout",
     "output_type": "stream",
     "text": [
      "[1, 0, 0, 0]\n",
      "[1.0, 0.25, 0.1111111111111111, 0.0625]\n",
      "[1, 0, 0, 0]\n",
      "[1.0, 0.25, 0.1111111111111111, 0.0625]\n",
      "[ 1.          0.25        0.11111111  0.0625    ]\n"
     ]
    }
   ],
   "source": [
    "a = [1, 2, 3, 4]\n",
    "b = [1., 2., 3., 4.]\n",
    "c = np.array([1, 2, 3, 4])\n",
    "d = np.array([1., 2., 3., 4.])\n",
    "print map(lambda x: 1/(x**2), a)\n",
    "print map(lambda x: 1/(x**2), b)\n",
    "print map(lambda x: 1/(x**2), c)\n",
    "print map(lambda x: 1/(x**2), d)\n",
    "print 1/np.power(d, 2)"
   ]
  },
  {
   "cell_type": "code",
   "execution_count": null,
   "metadata": {
    "collapsed": true
   },
   "outputs": [],
   "source": []
  }
 ],
 "metadata": {
  "kernelspec": {
   "display_name": "Python 2",
   "language": "python",
   "name": "python2"
  },
  "language_info": {
   "codemirror_mode": {
    "name": "ipython",
    "version": 2
   },
   "file_extension": ".py",
   "mimetype": "text/x-python",
   "name": "python",
   "nbconvert_exporter": "python",
   "pygments_lexer": "ipython2",
   "version": "2.7.13"
  }
 },
 "nbformat": 4,
 "nbformat_minor": 1
}
