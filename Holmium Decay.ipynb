{
 "cells": [
  {
   "cell_type": "code",
   "execution_count": 12,
   "metadata": {
    "collapsed": false
   },
   "outputs": [
    {
     "name": "stdout",
     "output_type": "stream",
     "text": [
      "1601.71765969\n"
     ]
    }
   ],
   "source": [
    "# Holmium decays into Erbium 166, so we analyze for Erbium\n",
    "# Experimental calculations for moment of inertia\n",
    "\n",
    "experimental_value = 80\n",
    "\n",
    "I_expt = (197**2)/(experimental_value/3) * 1000\n",
    "I_expt = I_expt / 931.5\n",
    "print(I_expt)"
   ]
  },
  {
   "cell_type": "code",
   "execution_count": 13,
   "metadata": {
    "collapsed": false
   },
   "outputs": [
    {
     "name": "stdout",
     "output_type": "stream",
     "text": [
      "(3425.1557605995636, 252.49066836051682)\n"
     ]
    }
   ],
   "source": [
    "# Models for what moment of inertia should be\n",
    "\n",
    "import math\n",
    "\n",
    "M = 166\n",
    "B = 0.3\n",
    "r0 = 1.25 # in femtometers\n",
    "\n",
    "R_av = 1.25 * (M**(1.0/3))\n",
    "\n",
    "I_rigid = (2.0/5)*M*(R_av**2)*(1 + 0.31*B) # Units are amu*fm^2 for B=0.3\n",
    "I_irrot = (9.0/(8*math.pi)) * M * (R_av**2) * (B**2)\n",
    "\n",
    "print(I_rigid, I_irrot)\n"
   ]
  },
  {
   "cell_type": "code",
   "execution_count": 15,
   "metadata": {
    "collapsed": false
   },
   "outputs": [
    {
     "name": "stdout",
     "output_type": "stream",
     "text": [
      "(0.467633524324248, 6.343670718957716)\n"
     ]
    }
   ],
   "source": [
    "rigid_ratio = I_expt/I_rigid\n",
    "liquid_ratio = I_expt/I_irrot\n",
    "print(rigid_ratio, liquid_ratio)"
   ]
  },
  {
   "cell_type": "code",
   "execution_count": null,
   "metadata": {
    "collapsed": true
   },
   "outputs": [],
   "source": []
  }
 ],
 "metadata": {
  "kernelspec": {
   "display_name": "Python 2",
   "language": "python",
   "name": "python2"
  },
  "language_info": {
   "codemirror_mode": {
    "name": "ipython",
    "version": 2
   },
   "file_extension": ".py",
   "mimetype": "text/x-python",
   "name": "python",
   "nbconvert_exporter": "python",
   "pygments_lexer": "ipython2",
   "version": "2.7.11"
  }
 },
 "nbformat": 4,
 "nbformat_minor": 2
}
