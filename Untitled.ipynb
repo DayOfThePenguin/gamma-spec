{
 "cells": [
  {
   "cell_type": "code",
   "execution_count": 1,
   "metadata": {},
   "outputs": [
    {
     "name": "stderr",
     "output_type": "stream",
     "text": [
      "/usr/local/lib/python2.7/dist-packages/matplotlib/cbook.py:136: MatplotlibDeprecationWarning: The axisbg attribute was deprecated in version 2.0. Use facecolor instead.\n",
      "  warnings.warn(message, mplDeprecation, stacklevel=1)\n"
     ]
    },
    {
     "data": {
      "text/plain": [
       "<matplotlib.figure.Figure at 0x7e3ec1e9d690>"
      ]
     },
     "metadata": {},
     "output_type": "display_data"
    },
    {
     "data": {
      "image/png": "[encoded data removed]",
      "text/plain": [
       "<matplotlib.figure.Figure at 0x7e3ec1e45190>"
      ]
     },
     "metadata": {},
     "output_type": "display_data"
    }
   ],
   "source": [
    "import pandas as pd\n",
    "import numpy as np\n",
    "import matplotlib.pyplot as plt\n",
    "import statsmodels.formula.api as sm\n",
    "\n",
    "x_list = [0.3333333333333333, 0.2886751345948129, 0.25, 0.23570226039551587, 0.22360679774997896, 0.20412414523193154, 0.2, 0.16666666666666666]\n",
    "y_list = [0.13250359351851854, 0.12098339583333334, 0.12398501145833334, 0.09152715, 0.11167239583333334, 0.10876248333333333, 0.09814170444444444, 0.08560799305555555]\n",
    "y_err = [0.003306749165349316, 0.003818446389148108, 0.0056036878203831785, 0.0036635292592592595, 0.0037034897788415424, 0.007576672222222223, 0.002981084130692832, 0.0034913019065973983]\n",
    "\n",
    "# put x and y into a pandas DataFrame, and the weights into a Series\n",
    "ws = pd.DataFrame({\n",
    "    'x': x_list,\n",
    "    'y': y_list\n",
    "})\n",
    "weights = pd.Series(y_err)\n",
    "\n",
    "wls_fit = sm.wls('x ~ y', data=ws, weights=1 / weights).fit()\n",
    "ols_fit = sm.ols('x ~ y', data=ws).fit()\n",
    "\n",
    "# show the fit summary by calling wls_fit.summary()\n",
    "# wls fit r-squared is 0.754\n",
    "# ols fit r-squared is 0.701\n",
    "\n",
    "# let's plot our data\n",
    "plt.clf()\n",
    "fig = plt.figure()\n",
    "ax = fig.add_subplot(111, axisbg='w')\n",
    "ws.plot(\n",
    "    kind='scatter',\n",
    "    x='x',\n",
    "    y='y',\n",
    "    style='o',\n",
    "    alpha=1.,\n",
    "    ax=ax,\n",
    "    title='x vs y scatter',\n",
    "    edgecolor='#ff8300',\n",
    "    s=40\n",
    ")\n",
    "\n",
    "# weighted prediction\n",
    "wp, = ax.plot(\n",
    "    wls_fit.predict(),\n",
    "    ws['y'],\n",
    "    color='#e55ea2',\n",
    "    lw=1.,\n",
    "    alpha=1.0,\n",
    ")\n",
    "# unweighted prediction\n",
    "op, = ax.plot(  \n",
    "    ols_fit.predict(),\n",
    "    ws['y'],\n",
    "    color='k',\n",
    "    ls='solid',\n",
    "    lw=1,\n",
    "    alpha=1.0,\n",
    ")\n",
    "leg = plt.legend(\n",
    "    (op, wp),\n",
    "    ('Ordinary Least Squares', 'Weighted Least Squares'),\n",
    "    loc='upper left',\n",
    "    fontsize=8)\n",
    "\n",
    "plt.tight_layout()\n",
    "fig.set_size_inches(6.40, 5.12)\n",
    "plt.savefig(\"so.png\", dpi=100, alpha=True)\n",
    "plt.show()"
   ]
  },
  {
   "cell_type": "code",
   "execution_count": null,
   "metadata": {
    "collapsed": true
   },
   "outputs": [],
   "source": []
  },
  {
   "cell_type": "code",
   "execution_count": null,
   "metadata": {
    "collapsed": true
   },
   "outputs": [],
   "source": []
  }
 ],
 "metadata": {
  "kernelspec": {
   "display_name": "Python 2",
   "language": "python",
   "name": "python2"
  },
  "language_info": {
   "codemirror_mode": {
    "name": "ipython",
    "version": 2
   },
   "file_extension": ".py",
   "mimetype": "text/x-python",
   "name": "python",
   "nbconvert_exporter": "python",
   "pygments_lexer": "ipython2",
   "version": "2.7.6"
  }
 },
 "nbformat": 4,
 "nbformat_minor": 2
}
