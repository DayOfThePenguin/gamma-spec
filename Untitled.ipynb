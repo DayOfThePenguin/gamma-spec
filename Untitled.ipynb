{
 "cells": [
  {
   "cell_type": "code",
   "execution_count": 3,
   "metadata": {},
   "outputs": [
    {
     "data": {
      "text/plain": [
       "<matplotlib.figure.Figure at 0x7e3ec1e9d410>"
      ]
     },
     "metadata": {},
     "output_type": "display_data"
    },
    {
     "data": {
      "image/png": "[encoded data removed]",
      "text/plain": [
       "<matplotlib.figure.Figure at 0x7e3ece151350>"
      ]
     },
     "metadata": {},
     "output_type": "display_data"
    }
   ],
   "source": [
    "import pandas as pd\n",
    "import numpy as np\n",
    "import matplotlib.pyplot as plt\n",
    "import statsmodels.formula.api as sm\n",
    "\n",
    "x_list = [121.8, 1408, 778.9, 1112, 334.3,]\n",
    "y_list = [296.9, 3500, 1933, 2763, 850.9]\n",
    "y_err = [4.470, 6.085, 5.795, 6.306, 4.654]\n",
    "\n",
    "# put x and y into a pandas DataFrame, and the weights into a Series\n",
    "ws = pd.DataFrame({\n",
    "    'x': x_list,\n",
    "    'y': y_list\n",
    "})\n",
    "weights = pd.Series(y_err)\n",
    "\n",
    "wls_fit = sm.wls('x ~ y', data=ws, weights=1 / weights).fit()\n",
    "ols_fit = sm.ols('x ~ y', data=ws).fit()\n",
    "\n",
    "# show the fit summary by calling wls_fit.summary()\n",
    "# wls fit r-squared is 0.754\n",
    "# ols fit r-squared is 0.701\n",
    "\n",
    "# let's plot our data\n",
    "plt.clf()\n",
    "fig = plt.figure()\n",
    "ax = fig.add_subplot(111, axisbg='w')\n",
    "ws.plot(\n",
    "    kind='scatter',\n",
    "    x='x',\n",
    "    y='y',\n",
    "    style='o',\n",
    "    alpha=1.,\n",
    "    ax=ax,\n",
    "    title='x vs y scatter',\n",
    "    edgecolor='#ff8300',\n",
    "    s=40\n",
    ")\n",
    "\n",
    "# weighted prediction\n",
    "wp, = ax.plot(\n",
    "    wls_fit.predict(),\n",
    "    ws['y'],\n",
    "    color='#e55ea2',\n",
    "    lw=1.,\n",
    "    alpha=1.0,\n",
    ")\n",
    "# unweighted prediction\n",
    "op, = ax.plot(  \n",
    "    ols_fit.predict(),\n",
    "    ws['y'],\n",
    "    color='k',\n",
    "    ls='solid',\n",
    "    lw=1,\n",
    "    alpha=1.0,\n",
    ")\n",
    "leg = plt.legend(\n",
    "    (op, wp),\n",
    "    ('Ordinary Least Squares', 'Weighted Least Squares'),\n",
    "    loc='upper left',\n",
    "    fontsize=8)\n",
    "\n",
    "plt.tight_layout()\n",
    "fig.set_size_inches(6.40, 5.12)\n",
    "plt.savefig(\"so.png\", dpi=100, alpha=True)\n",
    "plt.show()"
   ]
  },
  {
   "cell_type": "code",
   "execution_count": null,
   "metadata": {
    "collapsed": true
   },
   "outputs": [],
   "source": []
  },
  {
   "cell_type": "code",
   "execution_count": null,
   "metadata": {
    "collapsed": true
   },
   "outputs": [],
   "source": []
  }
 ],
 "metadata": {
  "kernelspec": {
   "display_name": "Python 2",
   "language": "python",
   "name": "python2"
  },
  "language_info": {
   "codemirror_mode": {
    "name": "ipython",
    "version": 2
   },
   "file_extension": ".py",
   "mimetype": "text/x-python",
   "name": "python",
   "nbconvert_exporter": "python",
   "pygments_lexer": "ipython2",
   "version": "2.7.6"
  }
 },
 "nbformat": 4,
 "nbformat_minor": 2
}
