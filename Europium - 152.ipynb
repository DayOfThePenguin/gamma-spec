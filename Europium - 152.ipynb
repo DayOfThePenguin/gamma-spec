{
 "cells": [
  {
   "cell_type": "code",
   "execution_count": 1,
   "metadata": {
    "collapsed": false
   },
   "outputs": [
    {
     "name": "stderr",
     "output_type": "stream",
     "text": [
      "/usr/local/lib/python2.7/site-packages/statsmodels/stats/stattools.py:72: ValueWarning: omni_normtest is not valid with less than 8 observations; 5 samples were given.\n",
      "  \"samples were given.\" % int(n), ValueWarning)\n",
      "/usr/local/lib/python2.7/site-packages/matplotlib/cbook.py:136: MatplotlibDeprecationWarning: The axisbg attribute was deprecated in version 2.0. Use facecolor instead.\n",
      "  warnings.warn(message, mplDeprecation, stacklevel=1)\n"
     ]
    },
    {
     "name": "stdout",
     "output_type": "stream",
     "text": [
      "                            WLS Regression Results                            \n",
      "==============================================================================\n",
      "Dep. Variable:                      x   R-squared:                       1.000\n",
      "Model:                            WLS   Adj. R-squared:                  1.000\n",
      "Method:                 Least Squares   F-statistic:                 6.438e+04\n",
      "Date:                Tue, 12 Sep 2017   Prob (F-statistic):           1.35e-07\n",
      "Time:                        14:01:39   Log-Likelihood:                -12.798\n",
      "No. Observations:                   5   AIC:                             29.60\n",
      "Df Residuals:                       3   BIC:                             28.82\n",
      "Df Model:                           1                                         \n",
      "Covariance Type:            nonrobust                                         \n",
      "==============================================================================\n",
      "                 coef    std err          t      P>|t|      [0.025      0.975]\n",
      "------------------------------------------------------------------------------\n",
      "Intercept     -2.0333      3.865     -0.526      0.635     -14.334      10.267\n",
      "y              0.4030      0.002    253.728      0.000       0.398       0.408\n",
      "==============================================================================\n",
      "Omnibus:                          nan   Durbin-Watson:                   1.322\n",
      "Prob(Omnibus):                    nan   Jarque-Bera (JB):                0.618\n",
      "Skew:                          -0.814   Prob(JB):                        0.734\n",
      "Kurtosis:                       2.437   Cond. No.                     5.31e+03\n",
      "==============================================================================\n",
      "\n",
      "Warnings:\n",
      "[1] Standard Errors assume that the covariance matrix of the errors is correctly specified.\n",
      "[2] The condition number is large, 5.31e+03. This might indicate that there are\n",
      "strong multicollinearity or other numerical problems.\n"
     ]
    },
    {
     "data": {
      "text/plain": [
       "<matplotlib.figure.Figure at 0x107b6b690>"
      ]
     },
     "metadata": {},
     "output_type": "display_data"
    },
    {
     "data": {
      "image/png": "[encoded data removed]",
      "text/plain": [
       "<matplotlib.figure.Figure at 0x107ba5e50>"
      ]
     },
     "metadata": {},
     "output_type": "display_data"
    }
   ],
   "source": [
    "from __future__ import print_function\n",
    "\n",
    "import pandas as pd\n",
    "import numpy as np\n",
    "import matplotlib.pyplot as plt\n",
    "import statsmodels.formula.api as sm\n",
    "\n",
    "energy_list = [121.8, 1408, 778.9, 1112, 334.3,]\n",
    "channel_list = [296.9, 3500, 1933, 2763, 850.9]\n",
    "channel_err = np.array([4.470, 6.085, 5.795, 6.306, 4.654])\n",
    "\n",
    "weights = 1/np.power(channel_err, 2)\n",
    "\n",
    "# put x and y into a pandas DataFrame, and the weights into a Series\n",
    "ws = pd.DataFrame({\n",
    "    'x': energy_list,\n",
    "    'y': channel_list,\n",
    "    'yerr': map(lambda x: x * 100, channel_err)\n",
    "})\n",
    "\n",
    "wls_fit = sm.wls('x ~ y', data=ws, weights=1 / weights).fit()\n",
    "ols_fit = sm.ols('x ~ y', data=ws).fit()\n",
    "\n",
    "# show the fit summary by calling wls_fit.summary()\n",
    "\n",
    "print(wls_fit.summary())\n",
    "\n",
    "# let's plot our data\n",
    "plt.clf()\n",
    "fig = plt.figure()\n",
    "ax = fig.add_subplot(111, axisbg='w')\n",
    "ws.plot(\n",
    "    kind='scatter',\n",
    "    x='x',\n",
    "    y='y',\n",
    "    yerr='yerr',\n",
    "    style='o',\n",
    "    alpha=1.,\n",
    "    ax=ax,\n",
    "    title='x vs y scatter',\n",
    "    edgecolor='#ff8300',\n",
    "    s=40\n",
    ")\n",
    "\n",
    "# weighted prediction\n",
    "wp, = ax.plot(\n",
    "    wls_fit.predict(),\n",
    "    ws['y'],\n",
    "    color='#e55ea2',\n",
    "    lw=1.,\n",
    "    alpha=1.0,\n",
    ")\n",
    "# unweighted prediction\n",
    "op, = ax.plot(  \n",
    "    ols_fit.predict(),\n",
    "    ws['y'],\n",
    "    color='k',\n",
    "    ls='solid',\n",
    "    lw=1,\n",
    "    alpha=1.0,\n",
    ")\n",
    "leg = plt.legend(\n",
    "    (op, wp),\n",
    "    ('Ordinary Least Squares', 'Weighted Least Squares'),\n",
    "    loc='upper left',\n",
    "    fontsize=8)\n",
    "\n",
    "plt.tight_layout()\n",
    "fig.set_size_inches(6.40, 5.12)\n",
    "plt.savefig(\"so.png\", dpi=100, alpha=True)\n",
    "plt.show()"
   ]
  },
  {
   "cell_type": "code",
   "execution_count": null,
   "metadata": {
    "collapsed": true
   },
   "outputs": [],
   "source": []
  },
  {
   "cell_type": "code",
   "execution_count": null,
   "metadata": {
    "collapsed": true
   },
   "outputs": [],
   "source": []
  }
 ],
 "metadata": {
  "kernelspec": {
   "display_name": "Python 2",
   "language": "python",
   "name": "python2"
  },
  "language_info": {
   "codemirror_mode": {
    "name": "ipython",
    "version": 2
   },
   "file_extension": ".py",
   "mimetype": "text/x-python",
   "name": "python",
   "nbconvert_exporter": "python",
   "pygments_lexer": "ipython2",
   "version": "2.7.13"
  }
 },
 "nbformat": 4,
 "nbformat_minor": 2
}
